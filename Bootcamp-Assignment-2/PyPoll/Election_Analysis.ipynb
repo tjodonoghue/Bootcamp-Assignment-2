{
 "cells": [
  {
   "cell_type": "code",
   "execution_count": 1,
   "id": "a9c70eb0",
   "metadata": {},
   "outputs": [],
   "source": [
    "import pandas as pd"
   ]
  },
  {
   "cell_type": "code",
   "execution_count": 2,
   "id": "1fca4a14",
   "metadata": {},
   "outputs": [
    {
     "data": {
      "text/html": [
       "<div>\n",
       "<style scoped>\n",
       "    .dataframe tbody tr th:only-of-type {\n",
       "        vertical-align: middle;\n",
       "    }\n",
       "\n",
       "    .dataframe tbody tr th {\n",
       "        vertical-align: top;\n",
       "    }\n",
       "\n",
       "    .dataframe thead th {\n",
       "        text-align: right;\n",
       "    }\n",
       "</style>\n",
       "<table border=\"1\" class=\"dataframe\">\n",
       "  <thead>\n",
       "    <tr style=\"text-align: right;\">\n",
       "      <th></th>\n",
       "      <th>Ballot ID</th>\n",
       "      <th>County</th>\n",
       "      <th>Candidate</th>\n",
       "    </tr>\n",
       "  </thead>\n",
       "  <tbody>\n",
       "    <tr>\n",
       "      <th>0</th>\n",
       "      <td>1323913</td>\n",
       "      <td>Jefferson</td>\n",
       "      <td>Charles Casper Stockham</td>\n",
       "    </tr>\n",
       "    <tr>\n",
       "      <th>1</th>\n",
       "      <td>1005842</td>\n",
       "      <td>Jefferson</td>\n",
       "      <td>Charles Casper Stockham</td>\n",
       "    </tr>\n",
       "    <tr>\n",
       "      <th>2</th>\n",
       "      <td>1880345</td>\n",
       "      <td>Jefferson</td>\n",
       "      <td>Charles Casper Stockham</td>\n",
       "    </tr>\n",
       "    <tr>\n",
       "      <th>3</th>\n",
       "      <td>1600337</td>\n",
       "      <td>Jefferson</td>\n",
       "      <td>Charles Casper Stockham</td>\n",
       "    </tr>\n",
       "    <tr>\n",
       "      <th>4</th>\n",
       "      <td>1835994</td>\n",
       "      <td>Jefferson</td>\n",
       "      <td>Charles Casper Stockham</td>\n",
       "    </tr>\n",
       "    <tr>\n",
       "      <th>...</th>\n",
       "      <td>...</td>\n",
       "      <td>...</td>\n",
       "      <td>...</td>\n",
       "    </tr>\n",
       "    <tr>\n",
       "      <th>369706</th>\n",
       "      <td>4714953</td>\n",
       "      <td>Arapahoe</td>\n",
       "      <td>Raymon Anthony Doane</td>\n",
       "    </tr>\n",
       "    <tr>\n",
       "      <th>369707</th>\n",
       "      <td>4497542</td>\n",
       "      <td>Arapahoe</td>\n",
       "      <td>Raymon Anthony Doane</td>\n",
       "    </tr>\n",
       "    <tr>\n",
       "      <th>369708</th>\n",
       "      <td>4085849</td>\n",
       "      <td>Arapahoe</td>\n",
       "      <td>Raymon Anthony Doane</td>\n",
       "    </tr>\n",
       "    <tr>\n",
       "      <th>369709</th>\n",
       "      <td>4592018</td>\n",
       "      <td>Arapahoe</td>\n",
       "      <td>Raymon Anthony Doane</td>\n",
       "    </tr>\n",
       "    <tr>\n",
       "      <th>369710</th>\n",
       "      <td>4660518</td>\n",
       "      <td>Arapahoe</td>\n",
       "      <td>Raymon Anthony Doane</td>\n",
       "    </tr>\n",
       "  </tbody>\n",
       "</table>\n",
       "<p>369711 rows × 3 columns</p>\n",
       "</div>"
      ],
      "text/plain": [
       "        Ballot ID     County                Candidate\n",
       "0         1323913  Jefferson  Charles Casper Stockham\n",
       "1         1005842  Jefferson  Charles Casper Stockham\n",
       "2         1880345  Jefferson  Charles Casper Stockham\n",
       "3         1600337  Jefferson  Charles Casper Stockham\n",
       "4         1835994  Jefferson  Charles Casper Stockham\n",
       "...           ...        ...                      ...\n",
       "369706    4714953   Arapahoe     Raymon Anthony Doane\n",
       "369707    4497542   Arapahoe     Raymon Anthony Doane\n",
       "369708    4085849   Arapahoe     Raymon Anthony Doane\n",
       "369709    4592018   Arapahoe     Raymon Anthony Doane\n",
       "369710    4660518   Arapahoe     Raymon Anthony Doane\n",
       "\n",
       "[369711 rows x 3 columns]"
      ]
     },
     "execution_count": 2,
     "metadata": {},
     "output_type": "execute_result"
    }
   ],
   "source": [
    "path = r\"C:\\Users\\Gamer PC\\Desktop\\Git\\Bootcamp-Assignment-2\\PyPoll\\election_data.csv\"\n",
    "df = pd.read_csv(path)\n",
    "df"
   ]
  },
  {
   "cell_type": "code",
   "execution_count": 3,
   "id": "d2944009",
   "metadata": {},
   "outputs": [
    {
     "name": "stdout",
     "output_type": "stream",
     "text": [
      "369711\n"
     ]
    }
   ],
   "source": [
    "num_votes=len(df[\"Ballot ID\"])\n",
    "print(num_votes) "
   ]
  },
  {
   "cell_type": "code",
   "execution_count": 4,
   "id": "8ee209ff",
   "metadata": {},
   "outputs": [
    {
     "name": "stdout",
     "output_type": "stream",
     "text": [
      "['Charles Casper Stockham' 'Diana DeGette' 'Raymon Anthony Doane']\n"
     ]
    }
   ],
   "source": [
    "candidates= df[\"Candidate\"].unique()\n",
    "print(candidates)"
   ]
  },
  {
   "cell_type": "code",
   "execution_count": 5,
   "id": "2e05f8d9",
   "metadata": {},
   "outputs": [
    {
     "name": "stdout",
     "output_type": "stream",
     "text": [
      "Candidate\n",
      "Diana DeGette              73.812\n",
      "Charles Casper Stockham    23.049\n",
      "Raymon Anthony Doane        3.139\n",
      "Name: count, dtype: float64\n"
     ]
    }
   ],
   "source": [
    "percent_for_candidate = round((((df[\"Candidate\"].value_counts())/369711) * 100), 3)\n",
    "print(percent_for_candidate)"
   ]
  },
  {
   "cell_type": "code",
   "execution_count": 6,
   "id": "452669e7",
   "metadata": {},
   "outputs": [
    {
     "name": "stdout",
     "output_type": "stream",
     "text": [
      "Candidate\n",
      "Diana DeGette              272892\n",
      "Charles Casper Stockham     85213\n",
      "Raymon Anthony Doane        11606\n",
      "Name: count, dtype: int64\n"
     ]
    }
   ],
   "source": [
    "total_for_candidate = df[\"Candidate\"].value_counts()\n",
    "print(total_for_candidate)"
   ]
  },
  {
   "cell_type": "code",
   "execution_count": 7,
   "id": "6ff99f12",
   "metadata": {},
   "outputs": [
    {
     "name": "stdout",
     "output_type": "stream",
     "text": [
      "272892\n"
     ]
    }
   ],
   "source": [
    "most_votes = total_for_candidate.max()\n",
    "print(most_votes)"
   ]
  },
  {
   "cell_type": "code",
   "execution_count": 8,
   "id": "95f88900",
   "metadata": {},
   "outputs": [
    {
     "name": "stdout",
     "output_type": "stream",
     "text": [
      "Diana DeGette\n"
     ]
    }
   ],
   "source": [
    "winner = total_for_candidate[total_for_candidate == most_votes].index[0]\n",
    "print(winner) "
   ]
  },
  {
   "cell_type": "code",
   "execution_count": 9,
   "id": "cb0bae2f",
   "metadata": {},
   "outputs": [
    {
     "name": "stdout",
     "output_type": "stream",
     "text": [
      " Election Results\n",
      "\n",
      "------------------------------------\n",
      "\n",
      "Total Votes: 369711\n",
      "\n",
      "------------------------------------\n",
      "\n",
      "Charles Casper Stockham: 23.049% (85213)\n",
      "Diana DeGette: 73.812% (272892)\n",
      "Raymon Anthony Doane: 3.139% (11606)\n",
      "\n",
      "\n",
      "-------------------------------------\n",
      "\n",
      "Winner: Diana DeGette \n",
      "\n"
     ]
    }
   ],
   "source": [
    "report_text = f\"\"\" Election Results\n",
    "\n",
    "------------------------------------\n",
    "\n",
    "Total Votes: {num_votes}\n",
    "\n",
    "------------------------------------\n",
    "\n",
    "\"\"\"\n",
    "\n",
    "for candidate in candidates: \n",
    "    report_text = report_text + f\"{candidate}: {percent_for_candidate[candidate]}% ({total_for_candidate[candidate]})\\n\"\n",
    "\n",
    "winner_text = f\"\"\"\n",
    "\n",
    "-------------------------------------\n",
    "\n",
    "Winner: {winner} \n",
    "\"\"\"\n",
    "result_text = report_text + winner_text\n",
    "\n",
    "with open(\"election_results.txt\", \"w\") as file:\n",
    "    file.write(result_text)\n",
    "\n",
    "print(result_text)"
   ]
  },
  {
   "cell_type": "code",
   "execution_count": null,
   "id": "a7acb792",
   "metadata": {},
   "outputs": [],
   "source": []
  }
 ],
 "metadata": {
  "kernelspec": {
   "display_name": "Python 3 (ipykernel)",
   "language": "python",
   "name": "python3"
  },
  "language_info": {
   "codemirror_mode": {
    "name": "ipython",
    "version": 3
   },
   "file_extension": ".py",
   "mimetype": "text/x-python",
   "name": "python",
   "nbconvert_exporter": "python",
   "pygments_lexer": "ipython3",
   "version": "3.11.5"
  }
 },
 "nbformat": 4,
 "nbformat_minor": 5
}
